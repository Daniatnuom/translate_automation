{
 "cells": [
  {
   "cell_type": "code",
   "execution_count": 1,
   "metadata": {},
   "outputs": [],
   "source": [
    "from google_trans_new import google_translator\n",
    "\n",
    "def google_translate_e_to_j(sentence):\n",
    "    translator = google_translator()  \n",
    "    translate_text = translator.translate(sentence,lang_src='en', lang_tgt='ja')  \n",
    "    return(translate_text)"
   ]
  },
  {
   "cell_type": "code",
   "execution_count": 2,
   "metadata": {},
   "outputs": [],
   "source": [
    "def input_sentence():\n",
    "    sentence = input('Enter your sentence:')\n",
    "    return(sentence)"
   ]
  },
  {
   "cell_type": "code",
   "execution_count": 3,
   "metadata": {},
   "outputs": [
    {
     "name": "stdout",
     "output_type": "stream",
     "text": [
      "Enter your sentence:Hello, new world.\n",
      "Hello, new world.\n",
      "こんにちは、新しい世界。 \n"
     ]
    }
   ],
   "source": [
    "## Here is main script, input arguement is sentence what you want to translate\n",
    "## Return arguement is translated sentence\n",
    "\n",
    "# Define input arguement \n",
    "sentence = input_sentence()\n",
    "# Print the sentence what you want to translate\n",
    "print(sentence)\n",
    "\n",
    "# Now use google translate API with input attribute pre-input sentence\n",
    "# This tells you how this function works\n",
    "output = google_translate_e_to_j(sentence)\n",
    "print(output)"
   ]
  },
  {
   "cell_type": "code",
   "execution_count": 4,
   "metadata": {},
   "outputs": [],
   "source": [
    "# Read sentence from xlxs file at desired colums and put them in the list \n",
    "\n",
    "import openpyxl\n",
    "wb = openpyxl.load_workbook('example_poc.xlsx')\n",
    "ws = wb.worksheets[0]\n",
    "\n",
    "trans_en = []\n",
    "trans_ja = []\n",
    "\n",
    "# Read Column F and put them in the list\n",
    "# Function of check null column doesn't implemented yet. \n",
    "for cell in ws['F']:\n",
    "    trans_en.append(cell.value)\n",
    "#print(trans_en)\n",
    "\n",
    "# Translate sentence to Japanese and append them in the list name, trans_ja\n",
    "for i in range(len(trans_en)):\n",
    "    if i == 0:\n",
    "        i+1\n",
    "    else:\n",
    "        #print(type(trans_en[i]))\n",
    "        sentence = trans_en[i]\n",
    "        trans_ja.append(google_translate_e_to_j(sentence))\n",
    "# # Print translated result \n",
    "# for j in range(len(trans_ja)):\n",
    "#     print(trans_ja[j])"
   ]
  },
  {
   "cell_type": "code",
   "execution_count": 5,
   "metadata": {},
   "outputs": [],
   "source": [
    "# Now write translated sentence your desired cell in the xlxs file.\n",
    "\n",
    "wb = openpyxl.load_workbook('example_poc.xlsx')\n",
    "# Specify the worksheet where you work  \n",
    "ws = wb.worksheets[0]\n",
    "\n",
    "for youso in range(len(trans_ja)):\n",
    "    cell = 'G{}'.format(int(youso)+2)\n",
    "#     print(cell)\n",
    "#     print(trans_ja[youso])\n",
    "    ws[cell] = trans_ja[youso]\n",
    "#     print(ws[cell])\n",
    "\n",
    "# save result as your preffered file name. \n",
    "# wb.save('your_favorite_filename.xlsx')\n",
    "wb.save('example_poc_add_jpn.xlsx')"
   ]
  },
  {
   "cell_type": "code",
   "execution_count": null,
   "metadata": {},
   "outputs": [],
   "source": []
  },
  {
   "cell_type": "code",
   "execution_count": null,
   "metadata": {},
   "outputs": [],
   "source": []
  }
 ],
 "metadata": {
  "kernelspec": {
   "display_name": "Python 3",
   "language": "python",
   "name": "python3"
  },
  "language_info": {
   "codemirror_mode": {
    "name": "ipython",
    "version": 3
   },
   "file_extension": ".py",
   "mimetype": "text/x-python",
   "name": "python",
   "nbconvert_exporter": "python",
   "pygments_lexer": "ipython3",
   "version": "3.7.4"
  }
 },
 "nbformat": 4,
 "nbformat_minor": 2
}
